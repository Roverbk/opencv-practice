import cv2 as cv
img=cv.imread('photos/imagica.jpg')
cv.imshow('cat',img)

#converting to grayscale

gray=cv.cvtColor(img,cv.COLOR_BGR2GRAY)
cv.imshow('Gray', gray)

#blur

blur = cv.GaussianBlur(img, (7,7), cv.BORDER_DEFAULT)
cv.imshow('blur', blur)

#Edge Cascade

canny=cv.Canny(blur, 125, 175)
cv.imshow('cannyedges', canny)

#Dilating the image

dilated =cv.dilate(canny, (3,3), iterations=3)
cv.imshow('dilatedimg', dilated)

#eroding

eroded = cv.erode(dilated,(3,3), iterations=1)
cv.imshow('Eroded', eroded)

#Resize

resized=cv.resize(img,(500,500),interpolation=cv.INTER_AREA)
cv.imshow('resized', resized)

#cropping

cropped=img[50:200, 200:400]
cv.imshow('cropped',cropped)







cv.waitKey(0)