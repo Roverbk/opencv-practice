from tkinter import Frame
import cv2 as cv
#reading images
#img=cv.imread('photos/cat.jfif')
#cv.imshow('Cat',img)

#reading videos
capture = cv.VideoCapture('videos/Food.mp4')
while True:
    isTrue, frame = capture.read()
    cv.imshow('Video', frame)

    if cv.waitKey(20) & 0xFF == ord('d'):
        break

capture.release()
cv.destroyAllWindows()    
cv.waitKey(0)


#rescale

